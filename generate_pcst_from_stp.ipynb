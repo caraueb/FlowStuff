{
 "cells": [
  {
   "cell_type": "markdown",
   "source": [
    "Generating a PCST from an STP input file. \r\n",
    "There aren't many PCST test/input files on the web and thus I've simply generated instances myself. The solutions are compared with the solution of PCST Fast as to guarantee that my solutiongs are correct."
   ],
   "metadata": {}
  },
  {
   "cell_type": "code",
   "execution_count": 7,
   "source": [
    "import sys, os\r\n",
    "sys.path.append(os.path.abspath('..'))\r\n",
    "from graphilp.imports import graph_formats\r\n",
    "from graphilp.imports import networkx as imp_nx\r\n",
    "import networkx as nx\r\n",
    "from gurobipy import *\r\n",
    "from pcstHeuristicModule_loops import *\r\n",
    "import sys, os\r\n",
    "import random\r\n",
    "from datetime import datetime\r\n",
    "from helpers import *\r\n",
    "import flowConfig as conf\r\n",
    "%load_ext autoreload\r\n",
    "%autoreload 2\r\n",
    "\r\n",
    "import numpy as np\r\n",
    "\r\n",
    "filePath = os.path.join(os.getcwd(), 'testInstances', 'tooBig', 'G101.stp')\r\n",
    "G, terminals = graph_formats.stp_to_networkx(filePath)\r\n",
    "G2 = G.to_undirected()"
   ],
   "outputs": [
    {
     "output_type": "stream",
     "name": "stdout",
     "text": [
      "The autoreload extension is already loaded. To reload it, use:\n",
      "  %reload_ext autoreload\n"
     ]
    }
   ],
   "metadata": {}
  },
  {
   "cell_type": "code",
   "execution_count": 8,
   "source": [
    "prizes = []\r\n",
    "costs = []\r\n",
    "edges = []\r\n",
    "\r\n",
    "G = nx.DiGraph(G)\r\n",
    "\r\n",
    "root = terminals[0]\r\n",
    "# Giving each node a random prize if its a terminal. If its a steiner Node, set its prize to 0.\r\n",
    "for node in G2.nodes():\r\n",
    "    if node in terminals:\r\n",
    "        thisPrize = random.randint(10000, 100000)\r\n",
    "        prizes.append(thisPrize)\r\n",
    "        G.nodes[node]['prize'] = thisPrize\r\n",
    "    else:\r\n",
    "        prizes.append(0)\r\n",
    "        G.nodes[node]['prize'] = 0\r\n",
    "\r\n",
    "# Set each edges capacity\r\n",
    "for edge in G.edges():\r\n",
    "    G[edge[0]][edge[1]]['capacity'] = conf.capacity\r\n",
    "\r\n",
    "# create reverse edge for every edge in the graph\r\n",
    "for edge in G.edges(data=True):\r\n",
    "    if ((edge[1], edge[0]) in G.edges()):\r\n",
    "        continue\r\n",
    "    else:\r\n",
    "        G.add_edge(edge[1], edge[0], weight = edge[2]['weight'], capacity = edge[2]['capacity'], prize = edge[2]['prize'])\r\n",
    "        \r\n",
    "sum_of_prizes = sum(prizes)\r\n",
    "\r\n",
    "# Generating input data for PCST Fast\r\n",
    "for edge in G2.edges(data=True):\r\n",
    "    costs.append(edge[2]['weight'])\r\n",
    "    edges.append([edge[0] - 1,edge[1] - 1])\r\n",
    "    \r\n",
    "prizesNP = np.array(prizes, dtype = float)\r\n",
    "costsNP = np.array(costs, dtype = float)\r\n",
    "edgesNP = np.array(edges, dtype = int)"
   ],
   "outputs": [],
   "metadata": {}
  },
  {
   "cell_type": "code",
   "execution_count": 9,
   "source": [
    "# Setting a node as a root. \r\n",
    "Graph = imp_nx.read(G)\r\n",
    "root = 69"
   ],
   "outputs": [],
   "metadata": {}
  },
  {
   "cell_type": "code",
   "execution_count": 10,
   "source": [
    "# Compute the Linear Relaxation of the Model\r\n",
    "solutionEdges, solutionNodes, result = computeLP(G, Graph, terminals)"
   ],
   "outputs": [],
   "metadata": {}
  },
  {
   "cell_type": "code",
   "execution_count": 11,
   "source": [
    "# Change this depending on whether you want to classical solution with for loops or the one \r\n",
    "# with pandas DataFrames. The Pandas DataFrames doesn't work yet. Thus, only use the second method\r\n",
    "# for test purposes only!\r\n",
    "startTime = datetime.now()\r\n",
    "z, y, f = networkConstruction(G, terminals, solutionEdges = solutionEdges, \\\r\n",
    "                              solutionNodes = solutionNodes, root = root)\r\n",
    "# pd_edges, pd_nodes = networkConstruction(G, terminals, solutionEdges = solutionEdges, \\\r\n",
    "#                                           solutionNodes = solutionNodes, root = root)\r\n",
    "print(datetime.now() - startTime)"
   ],
   "outputs": [],
   "metadata": {}
  },
  {
   "cell_type": "code",
   "execution_count": 6,
   "source": [
    "result, timeElapsed = networkImprovement(G, z, y, f, terminals, root)"
   ],
   "outputs": [
    {
     "output_type": "stream",
     "name": "stdout",
     "text": [
      "<class 'networkx.classes.digraph.DiGraph'>\n",
      "799914\n",
      "0\n",
      "<class 'networkx.classes.digraph.DiGraph'>\n",
      "799914\n",
      "1\n",
      "<class 'networkx.classes.digraph.DiGraph'>\n",
      "799914\n",
      "2\n",
      "<class 'networkx.classes.digraph.DiGraph'>\n",
      "801237\n",
      "0\n",
      "<class 'networkx.classes.digraph.DiGraph'>\n",
      "801237\n",
      "1\n",
      "<class 'networkx.classes.digraph.DiGraph'>\n",
      "801237\n",
      "2\n",
      "<class 'networkx.classes.digraph.DiGraph'>\n",
      "801237\n",
      "3\n",
      "<class 'networkx.classes.digraph.DiGraph'>\n",
      "947159\n",
      "0\n",
      "<class 'networkx.classes.digraph.DiGraph'>\n",
      "947159\n",
      "1\n",
      "<class 'networkx.classes.digraph.DiGraph'>\n",
      "947159\n",
      "2\n",
      "<class 'networkx.classes.digraph.DiGraph'>\n",
      "947159\n",
      "3\n",
      "<class 'networkx.classes.digraph.DiGraph'>\n",
      "958067\n",
      "0\n",
      "<class 'networkx.classes.digraph.DiGraph'>\n",
      "958067\n",
      "1\n",
      "<class 'networkx.classes.digraph.DiGraph'>\n",
      "958067\n",
      "2\n",
      "<class 'networkx.classes.digraph.DiGraph'>\n",
      "958067\n",
      "3\n",
      "<class 'networkx.classes.digraph.DiGraph'>\n",
      "958067\n",
      "4\n",
      "<class 'networkx.classes.digraph.DiGraph'>\n",
      "965755\n",
      "0\n",
      "<class 'networkx.classes.digraph.DiGraph'>\n",
      "965755\n",
      "1\n",
      "<class 'networkx.classes.digraph.DiGraph'>\n",
      "965755\n",
      "2\n",
      "<class 'networkx.classes.digraph.DiGraph'>\n",
      "965755\n",
      "3\n",
      "<class 'networkx.classes.digraph.DiGraph'>\n",
      "965755\n",
      "4\n",
      "<class 'networkx.classes.digraph.DiGraph'>\n",
      "965755\n",
      "5\n",
      "<class 'networkx.classes.digraph.DiGraph'>\n",
      "965755\n",
      "6\n",
      "<class 'networkx.classes.digraph.DiGraph'>\n",
      "965755\n",
      "7\n",
      "<class 'networkx.classes.digraph.DiGraph'>\n",
      "978962\n",
      "0\n",
      "<class 'networkx.classes.digraph.DiGraph'>\n",
      "978962\n",
      "1\n",
      "<class 'networkx.classes.digraph.DiGraph'>\n",
      "978962\n",
      "2\n",
      "<class 'networkx.classes.digraph.DiGraph'>\n",
      "978962\n",
      "3\n",
      "<class 'networkx.classes.digraph.DiGraph'>\n",
      "978962\n",
      "4\n",
      "<class 'networkx.classes.digraph.DiGraph'>\n",
      "978962\n",
      "5\n",
      "<class 'networkx.classes.digraph.DiGraph'>\n",
      "978962\n",
      "6\n",
      "<class 'networkx.classes.digraph.DiGraph'>\n",
      "978962\n",
      "7\n",
      "<class 'networkx.classes.digraph.DiGraph'>\n",
      "978962\n",
      "8\n",
      "<class 'networkx.classes.digraph.DiGraph'>\n",
      "997797\n",
      "0\n",
      "<class 'networkx.classes.digraph.DiGraph'>\n",
      "997797\n",
      "1\n",
      "<class 'networkx.classes.digraph.DiGraph'>\n",
      "997797\n",
      "2\n",
      "<class 'networkx.classes.digraph.DiGraph'>\n",
      "997797\n",
      "3\n",
      "<class 'networkx.classes.digraph.DiGraph'>\n",
      "997797\n",
      "4\n",
      "<class 'networkx.classes.digraph.DiGraph'>\n",
      "997797\n",
      "5\n",
      "<class 'networkx.classes.digraph.DiGraph'>\n"
     ]
    }
   ],
   "metadata": {}
  },
  {
   "cell_type": "code",
   "execution_count": 3,
   "source": [
    "# Get the PCST Fast solution\r\n",
    "vertices, edges = pcst_fast(edgesNP, prizesNP, costsNP, root, 1, 'gw', 1)\r\n",
    "# Compute a comparable solution objective\r\n",
    "computeMinimizationResultPCSTFast(sum_of_prizes, G, edges, G2.edges)"
   ],
   "outputs": [
    {
     "output_type": "error",
     "ename": "NameError",
     "evalue": "name 'pcst_fast' is not defined",
     "traceback": [
      "\u001b[1;31m---------------------------------------------------------------------------\u001b[0m",
      "\u001b[1;31mNameError\u001b[0m                                 Traceback (most recent call last)",
      "\u001b[1;32m<ipython-input-3-b607ce8b3467>\u001b[0m in \u001b[0;36m<module>\u001b[1;34m\u001b[0m\n\u001b[0;32m      1\u001b[0m \u001b[1;31m# Get the PCST Fast solution\u001b[0m\u001b[1;33m\u001b[0m\u001b[1;33m\u001b[0m\u001b[1;33m\u001b[0m\u001b[0m\n\u001b[1;32m----> 2\u001b[1;33m \u001b[0mvertices\u001b[0m\u001b[1;33m,\u001b[0m \u001b[0medges\u001b[0m \u001b[1;33m=\u001b[0m \u001b[0mpcst_fast\u001b[0m\u001b[1;33m(\u001b[0m\u001b[0medgesNP\u001b[0m\u001b[1;33m,\u001b[0m \u001b[0mprizesNP\u001b[0m\u001b[1;33m,\u001b[0m \u001b[0mcostsNP\u001b[0m\u001b[1;33m,\u001b[0m \u001b[1;33m-\u001b[0m\u001b[1;36m1\u001b[0m\u001b[1;33m,\u001b[0m \u001b[1;36m1\u001b[0m\u001b[1;33m,\u001b[0m \u001b[1;34m'gw'\u001b[0m\u001b[1;33m,\u001b[0m \u001b[1;36m1\u001b[0m\u001b[1;33m)\u001b[0m\u001b[1;33m\u001b[0m\u001b[1;33m\u001b[0m\u001b[0m\n\u001b[0m\u001b[0;32m      3\u001b[0m \u001b[1;31m# Compute a comparable solution objective\u001b[0m\u001b[1;33m\u001b[0m\u001b[1;33m\u001b[0m\u001b[1;33m\u001b[0m\u001b[0m\n\u001b[0;32m      4\u001b[0m \u001b[0mcomputeMinimizationResultPCSTFast\u001b[0m\u001b[1;33m(\u001b[0m\u001b[0msum_of_prizes\u001b[0m\u001b[1;33m,\u001b[0m \u001b[0mG\u001b[0m\u001b[1;33m,\u001b[0m \u001b[0medges\u001b[0m\u001b[1;33m,\u001b[0m \u001b[0mG2\u001b[0m\u001b[1;33m.\u001b[0m\u001b[0medges\u001b[0m\u001b[1;33m)\u001b[0m\u001b[1;33m\u001b[0m\u001b[1;33m\u001b[0m\u001b[0m\n",
      "\u001b[1;31mNameError\u001b[0m: name 'pcst_fast' is not defined"
     ]
    }
   ],
   "metadata": {}
  },
  {
   "cell_type": "code",
   "execution_count": null,
   "source": [],
   "outputs": [],
   "metadata": {}
  }
 ],
 "metadata": {
  "kernelspec": {
   "name": "python3",
   "display_name": "Python 3.8.10 64-bit"
  },
  "language_info": {
   "codemirror_mode": {
    "name": "ipython",
    "version": 3
   },
   "file_extension": ".py",
   "mimetype": "text/x-python",
   "name": "python",
   "nbconvert_exporter": "python",
   "pygments_lexer": "ipython3",
   "version": "3.8.10"
  },
  "interpreter": {
   "hash": "eaa2ab7a62c0917f87f70bcc1c7d6454437090f2090a811744461a161579b7b3"
  }
 },
 "nbformat": 4,
 "nbformat_minor": 5
}